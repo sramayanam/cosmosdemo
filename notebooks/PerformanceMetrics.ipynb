{
  "cells": [
    {
      "cell_type": "code",
      "source": [
        "##saving to github"
      ],
      "outputs": [],
      "execution_count": 9,
      "metadata": {
        "collapsed": true,
        "jupyter": {
          "outputs_hidden": false,
          "source_hidden": false
        },
        "nteract": {
          "transient": {
            "deleting": false
          }
        },
        "outputExpanded": false,
        "trusted": false,
        "execution": {
          "iopub.status.busy": "2020-09-14T23:27:34.209Z",
          "iopub.status.idle": "2020-09-14T23:27:34.239Z",
          "shell.execute_reply": "2020-09-14T23:27:34.242Z",
          "iopub.execute_input": "2020-09-14T23:27:34.235Z"
        }
      }
    },
    {
      "cell_type": "code",
      "source": [
        "import os\n",
        "import time\n",
        "import azure.cosmos"
      ],
      "outputs": [],
      "execution_count": null,
      "metadata": {
        "collapsed": true,
        "execution": {
          "iopub.execute_input": "2020-09-14T23:25:17.223Z",
          "iopub.status.busy": "2020-09-14T23:25:17.219Z",
          "iopub.status.idle": "2020-09-14T23:25:17.228Z",
          "shell.execute_reply": "2020-09-14T23:25:17.232Z"
        },
        "jupyter": {
          "outputs_hidden": false,
          "source_hidden": false
        },
        "nteract": {
          "transient": {
            "deleting": false
          }
        },
        "outputExpanded": false,
        "trusted": false
      }
    },
    {
      "cell_type": "code",
      "source": [
        "db_name = \"ContosoAuto\"\n",
        "container_name = \"metadata\"\n",
        "database_client = cosmos_client.get_database_client(db_name)\n",
        "container_client = database_client.get_container_client(container_name)"
      ],
      "outputs": [],
      "execution_count": 2,
      "metadata": {
        "collapsed": true,
        "execution": {
          "iopub.execute_input": "2020-09-14T23:25:22.409Z",
          "iopub.status.busy": "2020-09-14T23:25:22.406Z",
          "iopub.status.idle": "2020-09-14T23:25:22.414Z",
          "shell.execute_reply": "2020-09-14T23:25:22.420Z"
        },
        "jupyter": {
          "outputs_hidden": false,
          "source_hidden": false
        },
        "nteract": {
          "transient": {
            "deleting": false
          }
        },
        "outputExpanded": false,
        "trusted": false
      }
    },
    {
      "cell_type": "markdown",
      "source": [
        "### *Collocating Entities demo*"
      ],
      "metadata": {
        "nteract": {
          "transient": {
            "deleting": false
          }
        }
      }
    },
    {
      "cell_type": "code",
      "source": [
        "query = 'SELECT * from  c where c.vin = \"QOF12N5J7I5CMCOKN\"  and c.entityType = \"Vehicle\" and c.id = \"a4889ce9-b07f-4f25-9455-2278b2b39b87\"'\n",
        "start = time.time()\n",
        "results = list(container_client.query_items(\n",
        "    query=query,\n",
        "    enable_cross_partition_query=True))\n",
        "end = time.time()\n",
        "\n",
        "print('Got ' + str(len(results)) + ' result(s)')\n",
        "print('Time elapsed: %d ms'% ((end - start) * 1000))\n",
        "print('Request charge: ' + container_client.client_connection.last_response_headers['x-ms-request-charge'] + ' RUs')"
      ],
      "outputs": [
        {
          "output_type": "stream",
          "name": "stdout",
          "text": [
            "Got 1 result(s)\n",
            "Time elapsed: 98 ms\n",
            "Request charge: 2.79 RUs\n"
          ]
        }
      ],
      "execution_count": 3,
      "metadata": {
        "collapsed": true,
        "execution": {
          "iopub.execute_input": "2020-09-14T23:25:25.529Z",
          "iopub.status.busy": "2020-09-14T23:25:25.526Z",
          "iopub.status.idle": "2020-09-14T23:25:25.635Z",
          "shell.execute_reply": "2020-09-14T23:25:25.638Z"
        },
        "jupyter": {
          "outputs_hidden": false,
          "source_hidden": false
        },
        "nteract": {
          "transient": {
            "deleting": false
          }
        },
        "outputExpanded": false,
        "trusted": false
      }
    },
    {
      "cell_type": "code",
      "source": [
        "query = 'SELECT * from  c where c.vin = \"QOF12N5J7I5CMCOKN\"  and c.entityType = \"Trip\" and c.vin = \"QOF12N5J7I5CMCOKN\"'\n",
        "start = time.time()\n",
        "results = list(container_client.query_items(\n",
        "    query=query,\n",
        "    enable_cross_partition_query=True))\n",
        "end = time.time()\n",
        "\n",
        "print('Got ' + str(len(results)) + ' result(s)')\n",
        "print('Time elapsed: %d ms'% ((end - start) * 1000))\n",
        "print('Request charge: ' + container_client.client_connection.last_response_headers['x-ms-request-charge'] + ' RUs')"
      ],
      "outputs": [
        {
          "output_type": "stream",
          "name": "stdout",
          "text": [
            "Got 1 result(s)\n",
            "Time elapsed: 70 ms\n",
            "Request charge: 2.89 RUs\n"
          ]
        }
      ],
      "execution_count": 4,
      "metadata": {
        "collapsed": true,
        "execution": {
          "iopub.execute_input": "2020-09-14T23:25:27.869Z",
          "iopub.status.busy": "2020-09-14T23:25:27.825Z",
          "iopub.status.idle": "2020-09-14T23:25:27.892Z",
          "shell.execute_reply": "2020-09-14T23:25:27.918Z"
        },
        "jupyter": {
          "outputs_hidden": false,
          "source_hidden": false
        },
        "nteract": {
          "transient": {
            "deleting": false
          }
        },
        "outputExpanded": false,
        "trusted": false
      }
    },
    {
      "cell_type": "code",
      "source": [
        "query = 'SELECT * from  c where c.vin = \"QOF12N5J7I5CMCOKN\"  and c.entityType in (\"Vehicle\" ,\"Trip\")   ORDER BY c.entityType DESC'\n",
        "start = time.time()\n",
        "results = list(container_client.query_items(\n",
        "    query=query,\n",
        "    enable_cross_partition_query=True))\n",
        "end = time.time()\n",
        "\n",
        "print('Got ' + str(len(results)) + ' result(s)')\n",
        "print('Time elapsed: %d ms'% ((end - start) * 1000))\n",
        "print('Request charge: ' + container_client.client_connection.last_response_headers['x-ms-request-charge'] + ' RUs')\n",
        "print('Results ',results)"
      ],
      "outputs": [
        {
          "output_type": "stream",
          "name": "stdout",
          "text": [
            "Got 2 result(s)\n",
            "Time elapsed: 74 ms\n",
            "Request charge: 2.79 RUs\n",
            "Results  [{'id': 'a4889ce9-b07f-4f25-9455-2278b2b39b87', '_rid': 'VmxNAPaWpzEbAAAAAAAADg==', '_self': 'dbs/VmxNAA==/colls/VmxNAPaWpzE=/docs/VmxNAPaWpzEbAAAAAAAADg==/', '_etag': '\"0e00e586-0000-0100-0000-5f07965b0000\"', 'partitionKey': 'QOF12N5J7I5CMCOKN', 'entityType': 'Vehicle', 'vin': 'QOF12N5J7I5CMCOKN', 'lastServiceDate': '2019-12-21T22:12:38.4217425Z', 'batteryAgeDays': 1022, 'batteryRatedCycles': 200, 'lifetimeBatteryCyclesUsed': 134.7570368188155, 'averageDailyTripDuration': 53.39372539036676, 'batteryFailurePredicted': False, 'stateVehicleRegistered': 'WV', '_attachments': 'attachments/', '_ts': 1594332763}, {'partitionKey': 'QOF12N5J7I5CMCOKN', 'id': 'fce5dc0a-15c5-4e88-9136-a875afbd265b', 'entityType': 'Trip', 'vin': 'QOF12N5J7I5CMCOKN', 'consignmentId': '1d61eddd-532a-4e5d-98af-b001ce03ac4c', 'plannedTripDistance': 31.8, 'location': 'WV', 'odometerBegin': 128446, 'odometerEnd': 128477.81, 'temperatureSetting': 19, 'tripStarted': '2020-07-09T22:18:58.6870367Z', 'tripEnded': '2020-07-09T22:56:39.1944984Z', 'status': 'Completed', 'timestamp': '0001-01-01T00:00:00', 'packages': [{'packageId': '7b91eb0a-aedd-473c-967a-8f0b8c07716d', 'storageTemperature': 22, 'highValue': False}, {'packageId': '0af420b7-251c-4fbc-936b-894af050e7d2', 'storageTemperature': 24, 'highValue': False}, {'packageId': '3273c5c6-302e-4834-8ded-601ee1c1022d', 'storageTemperature': 33, 'highValue': False}, {'packageId': '7fe0b46f-88ba-42e4-a698-98f8f08ec3e1', 'storageTemperature': 38, 'highValue': False}, {'packageId': '13e645cb-9cd1-4b1a-944f-af9d328a82f7', 'storageTemperature': 34, 'highValue': False}, {'packageId': 'e0e8ea50-bf31-4f90-a1d3-ddbca68a95a1', 'storageTemperature': 38, 'highValue': False}, {'packageId': 'eecc7dd4-ed6c-42ee-8178-64fba02e63c7', 'storageTemperature': 29, 'highValue': False}, {'packageId': 'eb97518d-4b26-4a07-8838-c03eae091ef6', 'storageTemperature': 31, 'highValue': False}, {'packageId': '7cdf0ca9-095c-427b-8b3b-05bd9a7ccf59', 'storageTemperature': 33, 'highValue': False}, {'packageId': '34ea82a9-6ddb-48d9-aa3b-7f3ddf1ec8e0', 'storageTemperature': 23, 'highValue': False}, {'packageId': 'd5430f3d-4238-4808-abd1-6336cafb3947', 'storageTemperature': 32, 'highValue': False}, {'packageId': 'd9a01551-aaed-4216-9595-866d18c3e3fd', 'storageTemperature': 35, 'highValue': False}, {'packageId': '60cf82b7-5877-4ad8-928d-4e5ee70b8a3b', 'storageTemperature': 37, 'highValue': False}, {'packageId': '6c982023-4f41-4f1e-b381-4ba2f106bcd0', 'storageTemperature': 25, 'highValue': False}, {'packageId': '1ff0a186-2f68-49a0-aa90-8bb4d6854e62', 'storageTemperature': 34, 'highValue': False}, {'packageId': '24288cf3-c59d-4209-8953-2525ed895896', 'storageTemperature': 24, 'highValue': False}, {'packageId': '1d29446b-549d-4e21-a38b-b12fddf1cd64', 'storageTemperature': 30, 'highValue': False}, {'packageId': '7552c367-8aa1-4fc8-bddf-6f762b0057c5', 'storageTemperature': 33, 'highValue': False}, {'packageId': 'ba0d62bf-16db-4a68-ae86-efeaef5acac0', 'storageTemperature': 23, 'highValue': False}, {'packageId': '3476d935-6ecf-4867-af75-b56747f7d031', 'storageTemperature': 26, 'highValue': False}, {'packageId': 'cacd21bb-0c04-40e2-b7d3-5559166eee03', 'storageTemperature': 29, 'highValue': False}, {'packageId': '14da8aac-fc4f-4dc3-8e9e-dd5ee78691a3', 'storageTemperature': 30, 'highValue': False}, {'packageId': 'e86e19a4-b18e-43d5-b3ca-e54ed4bc9c2e', 'storageTemperature': 34, 'highValue': False}, {'packageId': 'cc0f9d48-4f59-47a7-ad82-0dd12692cc05', 'storageTemperature': 24, 'highValue': False}, {'packageId': 'd716ab05-04f0-42b4-8569-a1a19f5028ac', 'storageTemperature': 36, 'highValue': False}, {'packageId': 'f8078ff5-0442-4b5c-9f38-4a25bcc16b38', 'storageTemperature': 26, 'highValue': False}, {'packageId': '5e7f03eb-742e-415a-a65b-ebd12bbfb7ea', 'storageTemperature': 35, 'highValue': False}, {'packageId': 'bc1260af-8d38-4a3d-899a-96b19b36748c', 'storageTemperature': 32, 'highValue': False}, {'packageId': '6bf219cb-865d-4b66-acd3-2e3e0ceb9881', 'storageTemperature': 23, 'highValue': False}, {'packageId': 'a41aae0e-7233-4bb2-b0f7-d664e42bd6a5', 'storageTemperature': 30, 'highValue': False}, {'packageId': '64c9c43f-8331-4c25-b529-f3eb5ddcb311', 'storageTemperature': 36, 'highValue': False}, {'packageId': 'ec395d4e-df6b-4f46-a39e-f08173de8648', 'storageTemperature': 23, 'highValue': False}, {'packageId': '677ccf47-2e48-4747-ab82-fc1e2be64486', 'storageTemperature': 37, 'highValue': False}, {'packageId': '82c7e50b-3ddd-4fb3-a0a3-b392a999497d', 'storageTemperature': 28, 'highValue': False}, {'packageId': '49d6df0d-6ff8-4514-9452-fa8339c8f408', 'storageTemperature': 28, 'highValue': False}, {'packageId': '1338f57e-6d84-49a1-b6a0-b632e4033064', 'storageTemperature': 37, 'highValue': False}, {'packageId': '4cebafde-a169-4c3f-adbe-834f0d0d98a3', 'storageTemperature': 31, 'highValue': False}, {'packageId': '3a0fb14e-1d12-47dc-90e4-aa583fa86357', 'storageTemperature': 26, 'highValue': False}, {'packageId': '1f8ef738-e7ef-4fd1-b1be-fa25061ae56b', 'storageTemperature': 29, 'highValue': False}, {'packageId': '790b7547-5a5d-4663-939b-fba72369fd34', 'storageTemperature': 24, 'highValue': False}, {'packageId': '67c30dae-60fb-46d7-ae5b-c2413670f993', 'storageTemperature': 22, 'highValue': False}, {'packageId': '3a6eb7e2-fec0-486d-8607-6a1ea890b375', 'storageTemperature': 33, 'highValue': False}, {'packageId': '48242c80-ecea-4e2a-903b-8e87a2bf6bf9', 'storageTemperature': 25, 'highValue': False}, {'packageId': '5c075a06-8de8-4898-9c61-a0ac708c51b7', 'storageTemperature': 38, 'highValue': False}, {'packageId': 'a96746bc-8255-489f-b8de-d94608091653', 'storageTemperature': 28, 'highValue': False}, {'packageId': '57a18cb0-5bef-4708-b161-9ced752cfe35', 'storageTemperature': 33, 'highValue': False}, {'packageId': 'efd9e639-cc42-45ee-9518-03ab1112ba28', 'storageTemperature': 33, 'highValue': False}, {'packageId': '67477a79-e420-4f7c-bf18-c479f063d822', 'storageTemperature': 26, 'highValue': False}, {'packageId': 'ccad46c6-14d6-4deb-b90e-1e8fc30fa0d9', 'storageTemperature': 31, 'highValue': False}, {'packageId': 'be141766-7491-4348-9812-9dca8585a2b5', 'storageTemperature': 35, 'highValue': False}, {'packageId': 'd38f321e-eef3-4984-a5b7-822e1989b91e', 'storageTemperature': 31, 'highValue': False}, {'packageId': 'ba75bbab-dea6-4d59-8fec-ffa165306ee9', 'storageTemperature': 25, 'highValue': False}, {'packageId': '0d66c2ba-23b6-463b-825a-726a2fd075b5', 'storageTemperature': 27, 'highValue': False}, {'packageId': 'e1a982a9-aa48-42ef-a6a5-437a30ffd546', 'storageTemperature': 28, 'highValue': False}, {'packageId': '2acb68c9-5640-4126-8f17-9969c2218354', 'storageTemperature': 34, 'highValue': False}, {'packageId': '79fedfab-6c0c-402c-b814-114885815203', 'storageTemperature': 30, 'highValue': False}, {'packageId': 'bd744629-ab26-4494-b48c-58d7a3bce625', 'storageTemperature': 28, 'highValue': False}, {'packageId': '5964ec09-9879-4b14-8e71-60e55c055e92', 'storageTemperature': 24, 'highValue': False}, {'packageId': '1f8eb42d-bb70-4ba7-aa25-f6dae02fc61e', 'storageTemperature': 29, 'highValue': True}, {'packageId': '0ad6da9e-ed2f-462f-84cc-a16be487e2bd', 'storageTemperature': 35, 'highValue': False}, {'packageId': 'e8deb66a-d7b9-44fc-a2f8-2ff35c195aa2', 'storageTemperature': 24, 'highValue': False}, {'packageId': '89f200a4-5a15-4ccd-8417-6ec2cd3899b6', 'storageTemperature': 39, 'highValue': False}, {'packageId': 'fcaac6bb-97c7-40f0-a59c-9962ddfbdd91', 'storageTemperature': 36, 'highValue': False}, {'packageId': '47cfc203-19bc-4119-8bd3-42018c771906', 'storageTemperature': 33, 'highValue': False}, {'packageId': 'b9934d14-cf8b-44e4-b4a9-2362ebeb0196', 'storageTemperature': 28, 'highValue': False}, {'packageId': 'c22727fa-b732-4f57-9eeb-4c4e37bc45a1', 'storageTemperature': 33, 'highValue': False}, {'packageId': 'ce01d099-e0f8-4667-8b83-c04227ab2500', 'storageTemperature': 28, 'highValue': False}, {'packageId': '8e5d31df-3049-4454-8037-f4bdf885e9e8', 'storageTemperature': 21, 'highValue': False}, {'packageId': 'fcbd3f10-8318-4aff-aa73-c4655ef177a2', 'storageTemperature': 28, 'highValue': False}, {'packageId': '97efcf5a-c6d2-4710-b0ba-5d7947ff58bc', 'storageTemperature': 23, 'highValue': False}, {'packageId': 'b4f10822-c803-445d-8311-bc8af33b2dbd', 'storageTemperature': 24, 'highValue': False}, {'packageId': '5bb4acd4-6541-4c38-ad57-27b54901779e', 'storageTemperature': 22, 'highValue': False}, {'packageId': '169771f0-fc04-4d87-b854-a8b20e0a3b22', 'storageTemperature': 34, 'highValue': False}, {'packageId': '2d5f71ad-0c27-455d-a1cb-2c1d16a079a5', 'storageTemperature': 28, 'highValue': False}, {'packageId': 'd1ee6fdc-86ce-4ac0-8afa-bc6fc78c67fb', 'storageTemperature': 28, 'highValue': False}, {'packageId': '62096819-dd9d-4a75-ac2c-ac747e64f385', 'storageTemperature': 36, 'highValue': False}, {'packageId': '29461fe6-42cc-49d9-83c2-9b519e274721', 'storageTemperature': 22, 'highValue': False}, {'packageId': '327248c4-6879-45fe-9d3e-fdbc6173759c', 'storageTemperature': 23, 'highValue': False}, {'packageId': 'f249d615-c468-4b25-a2ea-129fdd9d110e', 'storageTemperature': 21, 'highValue': False}, {'packageId': '63dc3e7b-61d7-4242-98e9-af159122297f', 'storageTemperature': 30, 'highValue': False}, {'packageId': '3c7c79e2-16f8-461a-98bb-2a2e1dd0b2ca', 'storageTemperature': 35, 'highValue': False}, {'packageId': '6adf44ed-4191-4f82-a3f4-c5020394a72d', 'storageTemperature': 34, 'highValue': False}, {'packageId': '17ec0e4d-8cef-4abc-a046-cc904769e398', 'storageTemperature': 37, 'highValue': False}, {'packageId': '54e67129-d0d6-4436-8222-556224c0426c', 'storageTemperature': 23, 'highValue': False}, {'packageId': 'c9b805d2-5781-40d9-a437-2042cdf696cd', 'storageTemperature': 25, 'highValue': False}, {'packageId': 'd13feba3-1dd4-4885-ac14-53cb6842c8bc', 'storageTemperature': 27, 'highValue': False}, {'packageId': '5e3a0076-5e0b-4a92-874b-ff1776b9b018', 'storageTemperature': 21, 'highValue': False}, {'packageId': '0369325d-09fb-42dc-a33d-ec999dcdd7f7', 'storageTemperature': 34, 'highValue': False}, {'packageId': '5ac6e351-66b7-40eb-b2a7-b852ebf10110', 'storageTemperature': 35, 'highValue': True}, {'packageId': '4a2e1bfb-727d-402b-bc0a-28428b925d0e', 'storageTemperature': 38, 'highValue': False}, {'packageId': '729b46a7-e281-4547-957e-edfc1d6301cf', 'storageTemperature': 22, 'highValue': False}, {'packageId': 'd4638bde-0306-449a-a6a9-a0e2c113af2d', 'storageTemperature': 26, 'highValue': False}, {'packageId': '6c508887-cd8f-4fbf-8867-6bac9a67c514', 'storageTemperature': 29, 'highValue': False}, {'packageId': 'f3754e5e-f5ce-493b-9700-4cea6aa7d099', 'storageTemperature': 37, 'highValue': False}, {'packageId': 'd3b2772b-c6d0-4689-a495-6f2d3b18e793', 'storageTemperature': 37, 'highValue': False}, {'packageId': 'd6bb30d9-1b1a-4989-8706-081f7042d362', 'storageTemperature': 23, 'highValue': False}, {'packageId': '6aef8353-810e-4b7a-b9b2-35d34d5f65d9', 'storageTemperature': 27, 'highValue': False}, {'packageId': 'ed8c5b28-0575-489f-8752-5e08a2ac4c6f', 'storageTemperature': 33, 'highValue': False}, {'packageId': '567c8a5f-7a4c-4646-b672-f58f59a630fa', 'storageTemperature': 30, 'highValue': False}, {'packageId': '242348f4-9eaf-4c2a-a55c-51f524f75239', 'storageTemperature': 29, 'highValue': False}, {'packageId': '60a0a506-2b13-4d75-9d5e-8d2a7e8eb494', 'storageTemperature': 37, 'highValue': False}, {'packageId': '236bb50c-2171-4a11-b084-7d160e334b0d', 'storageTemperature': 35, 'highValue': False}, {'packageId': '98ae34ec-1138-4a23-b85f-1f0dded214d9', 'storageTemperature': 39, 'highValue': False}, {'packageId': '1462bfcc-c29b-488a-8ac8-e633e5429afe', 'storageTemperature': 33, 'highValue': False}, {'packageId': '801143fa-df55-4d8f-8790-ae4f299048ed', 'storageTemperature': 26, 'highValue': False}, {'packageId': '265ad226-8ab4-45d9-bd40-4d4bb29248ea', 'storageTemperature': 28, 'highValue': False}, {'packageId': '46d264ac-3189-4e3e-9a4c-4c8a32919fa5', 'storageTemperature': 23, 'highValue': True}, {'packageId': 'b3d1203f-577c-4503-99e1-fdaa53bd6921', 'storageTemperature': 25, 'highValue': False}, {'packageId': 'df09bfe1-2308-4318-aeed-173e84732b8b', 'storageTemperature': 35, 'highValue': False}, {'packageId': '123b4d48-46bf-4131-9cbc-d6669f031a42', 'storageTemperature': 25, 'highValue': False}, {'packageId': 'b1bc123c-400f-447a-a0da-80828475724e', 'storageTemperature': 29, 'highValue': False}, {'packageId': '6ebcb612-a2ff-414a-86d0-e7c2b2082f6a', 'storageTemperature': 34, 'highValue': False}, {'packageId': 'cc3bd44a-2a8c-4f7e-af62-ad75894067a4', 'storageTemperature': 25, 'highValue': False}, {'packageId': 'ad6c8966-0121-4d60-af8d-dfa20b439c05', 'storageTemperature': 34, 'highValue': False}, {'packageId': '4cdd53db-8004-4e7c-845d-5830879d46f3', 'storageTemperature': 28, 'highValue': False}, {'packageId': '82a48bfa-92c2-409d-8ec7-d3898bf6cb53', 'storageTemperature': 22, 'highValue': False}, {'packageId': 'c76d5885-9b97-4675-8f3b-b89ecd987f71', 'storageTemperature': 22, 'highValue': False}, {'packageId': '87d3f0f6-c42c-4b11-a53c-0550894ff734', 'storageTemperature': 32, 'highValue': False}, {'packageId': 'b3d6522a-b7cd-408e-9312-ad58307e9a83', 'storageTemperature': 25, 'highValue': False}, {'packageId': '4c764ec0-ec99-4b77-ab7d-8a9179069747', 'storageTemperature': 25, 'highValue': False}, {'packageId': 'd39e96bc-90c5-47a6-9192-de28a32519ca', 'storageTemperature': 35, 'highValue': False}, {'packageId': '7dc2a0a6-4652-4a12-ad7e-d9830101797e', 'storageTemperature': 28, 'highValue': False}, {'packageId': '4a276329-eef9-4651-b44e-232ad8ed6f7e', 'storageTemperature': 29, 'highValue': False}, {'packageId': '5255d596-6dce-4e03-a0c4-a0f3b8d4421a', 'storageTemperature': 33, 'highValue': False}, {'packageId': 'e4c0afa8-4e52-499a-8877-d0e3c6853fd2', 'storageTemperature': 28, 'highValue': False}, {'packageId': '3dbeff60-56c8-401c-b70f-76cd1fc08ce3', 'storageTemperature': 35, 'highValue': False}, {'packageId': '4b9ae11f-4050-4f69-9e9e-8a21f02c045c', 'storageTemperature': 25, 'highValue': True}, {'packageId': '72f33343-2be6-4d21-aed4-815518716e8e', 'storageTemperature': 33, 'highValue': False}, {'packageId': '749f193e-7ed7-4cdc-9c31-85d3db30f356', 'storageTemperature': 23, 'highValue': False}, {'packageId': 'cf7f0730-dacf-4d3e-9a1b-f2e97e20113a', 'storageTemperature': 34, 'highValue': False}, {'packageId': 'd069b9fb-32e8-41a9-a8ca-7baf16bef6de', 'storageTemperature': 35, 'highValue': False}, {'packageId': 'f59d4b13-7201-48e8-96b1-051e59801306', 'storageTemperature': 25, 'highValue': False}, {'packageId': '3982a08d-b822-4741-af7d-b87f60f9d6e5', 'storageTemperature': 38, 'highValue': False}, {'packageId': '72359c15-d465-4ae6-a6a6-1d3ccf7dd8c8', 'storageTemperature': 31, 'highValue': False}, {'packageId': 'e228f2b7-1418-4232-9974-dc3d74ac56ab', 'storageTemperature': 28, 'highValue': False}, {'packageId': '8c96161c-8bda-45f0-b970-127005a2d2d3', 'storageTemperature': 33, 'highValue': False}, {'packageId': '79b9ee45-7d66-4427-a65d-4ca6290da5d0', 'storageTemperature': 23, 'highValue': False}, {'packageId': 'cdfefb0c-b87f-45cb-ab82-2c95b2a3cf5f', 'storageTemperature': 27, 'highValue': False}, {'packageId': 'b7972f3a-d2fd-4384-ba85-8ab55e692adc', 'storageTemperature': 32, 'highValue': False}, {'packageId': 'ef24293b-35f6-46b2-87d0-62cd2b106dd3', 'storageTemperature': 27, 'highValue': False}, {'packageId': 'c40af801-9cf2-44af-8673-ccc2f9a6c05b', 'storageTemperature': 30, 'highValue': False}, {'packageId': '9f9c1a39-6904-438e-ac95-991070a0de48', 'storageTemperature': 32, 'highValue': False}, {'packageId': '45fdafeb-b091-47b0-be28-69f3c483660d', 'storageTemperature': 35, 'highValue': False}, {'packageId': 'c513554e-6f0b-4df5-898c-e456f9d2c5ce', 'storageTemperature': 24, 'highValue': False}, {'packageId': 'ecf2b5be-8583-4ee2-8dc9-124714089468', 'storageTemperature': 28, 'highValue': False}, {'packageId': 'c6f5aa05-9c2b-4848-a80b-595cd025660b', 'storageTemperature': 34, 'highValue': False}, {'packageId': 'faaf573b-0f09-4387-8fe3-7cfec9c149c8', 'storageTemperature': 33, 'highValue': False}, {'packageId': '6865be04-6b85-4434-8a84-55c62b0321e9', 'storageTemperature': 23, 'highValue': False}, {'packageId': '945fdfbf-228c-460b-9f14-39bdf4f4fdab', 'storageTemperature': 32, 'highValue': False}, {'packageId': '72c821b4-1d1d-4f7d-a4dd-0f68ab83866c', 'storageTemperature': 29, 'highValue': False}, {'packageId': '2ae5e45b-87cd-4adb-94f8-a36b7ccf6b5b', 'storageTemperature': 25, 'highValue': False}, {'packageId': '252b0933-e4ee-4535-b4ed-03daa3c62bc7', 'storageTemperature': 25, 'highValue': False}, {'packageId': 'f6e22567-ceec-4a32-a5e2-788e404686f2', 'storageTemperature': 33, 'highValue': False}, {'packageId': 'e0646e27-211c-4e8c-97ad-11758a30aa14', 'storageTemperature': 22, 'highValue': False}, {'packageId': 'b90a168a-0938-45dc-8655-7e1a5a000b76', 'storageTemperature': 23, 'highValue': False}, {'packageId': '5d676358-81cd-44fa-9790-02781a79b8be', 'storageTemperature': 27, 'highValue': False}, {'packageId': '55c1e0b2-2c62-488f-b361-bbab351e7c70', 'storageTemperature': 36, 'highValue': False}, {'packageId': '51da97fe-f5cb-4039-8ec0-26b416037be4', 'storageTemperature': 29, 'highValue': False}, {'packageId': 'b208ca5a-6640-4af7-92d4-baf3f386c94c', 'storageTemperature': 24, 'highValue': False}, {'packageId': 'b1bfc540-9b49-4cda-b217-5beb8ab0e03a', 'storageTemperature': 31, 'highValue': False}, {'packageId': '687465c2-7cdb-4c46-b735-f6fca471e4f4', 'storageTemperature': 27, 'highValue': True}, {'packageId': '10f0347f-d034-4ada-9d63-52b39df0d3be', 'storageTemperature': 21, 'highValue': False}, {'packageId': 'b9c6a311-58f6-4f59-866d-a05ef87751be', 'storageTemperature': 22, 'highValue': True}, {'packageId': 'cfc58370-952a-406a-a1d0-cf3d21edaed1', 'storageTemperature': 36, 'highValue': False}, {'packageId': '5a492ddc-98ea-4854-ae28-0dfe3346b8e1', 'storageTemperature': 36, 'highValue': False}, {'packageId': '488d60d2-101f-45fd-8d60-2239027c5cde', 'storageTemperature': 38, 'highValue': False}, {'packageId': 'dbb7014f-4d30-4f47-aa5a-a2487d320079', 'storageTemperature': 38, 'highValue': False}, {'packageId': 'e38c1a14-c5f3-4ab5-a12a-f53afc927349', 'storageTemperature': 25, 'highValue': False}, {'packageId': 'f4362da2-9eb8-4a14-aef7-1b8085a0c749', 'storageTemperature': 22, 'highValue': False}, {'packageId': '575946c0-401a-4012-a51a-608ebd09b66f', 'storageTemperature': 24, 'highValue': False}, {'packageId': '7af334a9-77f0-4938-ab94-b059f569ba4b', 'storageTemperature': 32, 'highValue': False}, {'packageId': '0df62436-7733-4cb7-a3fa-eafbe0452671', 'storageTemperature': 23, 'highValue': False}, {'packageId': 'e4400f16-ff44-443c-b4c8-0dfca969e4f9', 'storageTemperature': 28, 'highValue': False}, {'packageId': 'af5cc8f6-d1a8-405a-a1bf-9cf494b7a3cb', 'storageTemperature': 22, 'highValue': False}, {'packageId': '16b5cd8f-eb41-44c5-a476-084e2934f836', 'storageTemperature': 31, 'highValue': False}, {'packageId': '9dbb0094-c12d-4809-87dc-edeeb6376de3', 'storageTemperature': 34, 'highValue': False}, {'packageId': '6a80f090-5373-4ecc-8b0a-9f0e8d6aa210', 'storageTemperature': 23, 'highValue': False}, {'packageId': 'a72b3324-14f2-4017-8a7b-7371d34e406b', 'storageTemperature': 27, 'highValue': False}, {'packageId': '512985e6-d789-49cc-b7a9-2ba7564d2a51', 'storageTemperature': 38, 'highValue': False}, {'packageId': '8959a832-c483-443c-8289-3f0443117c90', 'storageTemperature': 32, 'highValue': False}, {'packageId': '4255d899-012b-48ab-aea4-c15bcb9d61fb', 'storageTemperature': 34, 'highValue': False}, {'packageId': '29d9b1cd-0831-4f7d-bfca-d522b4bdd5bc', 'storageTemperature': 30, 'highValue': False}, {'packageId': '1cbea9e2-314f-404a-84ce-41b0e3ad8f89', 'storageTemperature': 38, 'highValue': False}, {'packageId': '875ec61a-98f4-430c-b618-4d55d986fb6c', 'storageTemperature': 37, 'highValue': False}, {'packageId': 'cb1c7819-35bd-41d5-bc16-47a05dbf0a82', 'storageTemperature': 26, 'highValue': False}, {'packageId': '4752a421-af34-4c79-ad7e-6c55e43f5173', 'storageTemperature': 32, 'highValue': False}, {'packageId': 'db3ec430-cd20-4e94-a165-beaf42820e91', 'storageTemperature': 26, 'highValue': False}, {'packageId': '76dbbaeb-9be6-4151-844c-51888be724e4', 'storageTemperature': 37, 'highValue': False}, {'packageId': '5cad58aa-b380-4bf2-a54a-257b163fba15', 'storageTemperature': 21, 'highValue': False}, {'packageId': '3ad8e845-ceac-43e6-80bb-63f82c41ea52', 'storageTemperature': 36, 'highValue': False}, {'packageId': '30050642-6952-464e-8da5-34425f9ecbe4', 'storageTemperature': 27, 'highValue': False}, {'packageId': '20684798-4a05-45b5-b530-5be42ad0f60d', 'storageTemperature': 29, 'highValue': False}, {'packageId': '91d30c01-177b-42bd-951a-eb3f14e4ac78', 'storageTemperature': 36, 'highValue': False}, {'packageId': 'c108377b-f1be-42ee-a292-818c7dc2678e', 'storageTemperature': 33, 'highValue': False}, {'packageId': '670240dc-717e-43d7-8790-dcb6126778e7', 'storageTemperature': 39, 'highValue': False}, {'packageId': '0215326a-eb0b-4a2d-b4ba-12c1a7bc5694', 'storageTemperature': 23, 'highValue': False}, {'packageId': '3ce367f3-0a0f-434d-bfa0-0e63fbdd7567', 'storageTemperature': 27, 'highValue': False}, {'packageId': '6f2ecc93-d2a2-4a13-ae54-d1c6bbcba4dc', 'storageTemperature': 28, 'highValue': False}, {'packageId': '5aaef7ee-e3b3-4288-8307-b7eb54cd8683', 'storageTemperature': 34, 'highValue': True}, {'packageId': 'b2a6e82a-d1e1-4516-a61d-ac93f94ead71', 'storageTemperature': 37, 'highValue': False}, {'packageId': 'da8095d5-60a0-4776-bc06-522f650cd632', 'storageTemperature': 36, 'highValue': False}, {'packageId': 'cd657180-970b-4f66-b441-761d7f5daee2', 'storageTemperature': 34, 'highValue': False}, {'packageId': 'ae75d1fc-0cfb-42f9-99c7-8fabbe5ce86b', 'storageTemperature': 35, 'highValue': False}, {'packageId': 'abc7edfb-8125-495c-8e0b-53973bf93238', 'storageTemperature': 26, 'highValue': False}, {'packageId': 'e4618117-fe12-4247-a96f-94b26f9f952f', 'storageTemperature': 36, 'highValue': False}, {'packageId': 'd58e4e6e-6f0c-47ca-8f0e-db427741f99b', 'storageTemperature': 24, 'highValue': False}, {'packageId': '380ef084-9ab3-45b5-a20a-ae7460f67c06', 'storageTemperature': 36, 'highValue': False}, {'packageId': 'eede7e55-eb8f-48b4-bbe4-7b8ec4efafff', 'storageTemperature': 36, 'highValue': False}, {'packageId': 'b8bfafcd-fed6-4d47-93e6-360475d4a204', 'storageTemperature': 33, 'highValue': False}, {'packageId': 'ae85e68b-1b9b-483a-a8b9-0315c8f574ac', 'storageTemperature': 24, 'highValue': False}, {'packageId': '50587ae6-25e9-4c23-bf92-1f2730ed49a3', 'storageTemperature': 31, 'highValue': False}, {'packageId': '92292c5a-c879-4df2-880d-abfb7e62530e', 'storageTemperature': 33, 'highValue': True}, {'packageId': 'e1e5cab2-c5f9-4a75-94d2-d16d778bf2d2', 'storageTemperature': 38, 'highValue': True}, {'packageId': 'ccce5809-eece-432a-a77a-2a6a3bd91d23', 'storageTemperature': 24, 'highValue': False}, {'packageId': '695b0e7c-87f7-4de8-89a6-876f6d89a2dd', 'storageTemperature': 28, 'highValue': False}, {'packageId': 'f3b94251-ff1d-4228-b6e0-1def9cd8e5d5', 'storageTemperature': 32, 'highValue': False}, {'packageId': '3b237129-0b65-48be-839e-1340d36d3b81', 'storageTemperature': 26, 'highValue': False}, {'packageId': '0367af3f-6165-48a1-a3d3-5ac9d1925dcf', 'storageTemperature': 24, 'highValue': False}, {'packageId': '851ccb6c-da25-4b16-ba62-4bcc0489a8c8', 'storageTemperature': 28, 'highValue': True}, {'packageId': '77f31c92-75fa-4c5e-a236-851139524fa6', 'storageTemperature': 33, 'highValue': False}, {'packageId': '850c5a83-d6a6-4a54-b7f1-e0e0d723c560', 'storageTemperature': 34, 'highValue': False}, {'packageId': 'f86a4eae-2c83-44a2-9e63-5b27b608390c', 'storageTemperature': 37, 'highValue': False}, {'packageId': '8f4d84a9-d090-4a58-a978-23f44bfc1e30', 'storageTemperature': 28, 'highValue': False}, {'packageId': '78d8a6e0-c639-45d6-96d2-89ec4c0b6ab7', 'storageTemperature': 35, 'highValue': False}, {'packageId': 'b80b3c0e-2f23-4700-8cdb-ad460ae64576', 'storageTemperature': 27, 'highValue': False}, {'packageId': '44345438-185f-4b90-828e-068d01c67bc1', 'storageTemperature': 27, 'highValue': False}, {'packageId': 'c1579f1a-edbe-4484-88c8-94fc73dcdec1', 'storageTemperature': 23, 'highValue': False}, {'packageId': 'f3441af6-2221-45fb-ad80-4f370cfc979e', 'storageTemperature': 37, 'highValue': False}, {'packageId': '341234ba-8317-49ca-a435-1a911e011972', 'storageTemperature': 23, 'highValue': False}, {'packageId': '919e1b1e-4720-43dd-9860-bf79f443e701', 'storageTemperature': 38, 'highValue': False}, {'packageId': '6ae36489-7069-4a99-a918-b5e84ed6e539', 'storageTemperature': 31, 'highValue': False}], 'consignment': {'consignmentId': '1d61eddd-532a-4e5d-98af-b001ce03ac4c', 'customer': 'Trey Research', 'deliveryDueDate': '2020-07-10T01:28:38.4250243Z'}, '_rid': 'VmxNAPaWpzFUUwAAAAAADg==', '_self': 'dbs/VmxNAA==/colls/VmxNAPaWpzE=/docs/VmxNAPaWpzFUUwAAAAAADg==/', '_etag': '\"2500989d-0000-0100-0000-5f07a0a70000\"', '_attachments': 'attachments/', '_ts': 1594335399}]\n"
          ]
        }
      ],
      "execution_count": 5,
      "metadata": {
        "collapsed": true,
        "execution": {
          "iopub.execute_input": "2020-09-14T23:25:30.679Z",
          "iopub.status.busy": "2020-09-14T23:25:30.677Z",
          "iopub.status.idle": "2020-09-14T23:25:30.854Z",
          "shell.execute_reply": "2020-09-14T23:25:30.861Z"
        },
        "jupyter": {
          "outputs_hidden": false,
          "source_hidden": false
        },
        "nteract": {
          "transient": {
            "deleting": false
          }
        },
        "outputExpanded": false,
        "trusted": false
      }
    },
    {
      "cell_type": "code",
      "source": [
        "%%sql --database ContosoAuto --container metadata --output df_cosmos\n",
        "SELECT * from  c \n",
        "where \n",
        "c.vin = \"QOF12N5J7I5CMCOKN\"  \n",
        "and c.entityType in ('Vehicle' ,'Trip')\n",
        "ORDER BY c.entityType DESC"
      ],
      "outputs": [
        {
          "output_type": "display_data",
          "data": {
            "text/html": [
              "\r\n",
              "<div>\r\n",
              "  <style type='text/css' scoped>\r\n",
              ".collapsible {\r\n",
              "  background-color: #fff;\r\n",
              "  color: #0078D4;\r\n",
              "  cursor: pointer;\r\n",
              "  padding: 10px;\r\n",
              "  border: none;\r\n",
              "  text-align: left;\r\n",
              "  outline: none;\r\n",
              "  font-size: 15px;\r\n",
              "  border-radius: 5px;\r\n",
              "  margin: 5px\r\n",
              "}\r\n",
              "\r\n",
              ".active, .collapsible:hover {\r\n",
              "  color: #4db2ff;\r\n",
              "}\r\n",
              "\r\n",
              ".content {\r\n",
              "  margin: 2px;\r\n",
              "  padding: 0 18px;\r\n",
              "  overflow: hidden;\r\n",
              "  background-color: #fff;\r\n",
              "  height: 0px;\r\n",
              "  -moz-transition: height .2s ease-out;\r\n",
              "  -ms-transition: height .2s ease-out;\r\n",
              "  -o-transition: height .2s ease-out;\r\n",
              "  -webkit-transition: height .2s ease-out;\r\n",
              "  transition: height .2s ease-out;\r\n",
              "}\r\n",
              "</style>\r\n",
              "\r\n",
              "<button type='button' class='collapsible'>▶ View Query Metrics</button>\r\n",
              "  \r\n",
              "<div class='content'>\r\n",
              "  <div class='measuringWrapper'>\r\n",
              "    <span style=\"color:#0078D4\"><b>totalExecutionTimeInMs    </b>:    16.84<br/><b>queryCompileTimeInMs    </b>:    1.33<br/><b>queryLogicalPlanBuildTimeInMs    </b>:    0.55<br/><b>queryPhysicalPlanBuildTimeInMs    </b>:    0.64<br/><b>queryOptimizationTimeInMs    </b>:    0.1<br/><b>VMExecutionTimeInMs    </b>:    12.94<br/><b>indexLookupTimeInMs    </b>:    0.51<br/><b>documentLoadTimeInMs    </b>:    12.1<br/><b>systemFunctionExecuteTimeInMs    </b>:    0<br/><b>userFunctionExecuteTimeInMs    </b>:    0<br/><b>retrievedDocumentCount    </b>:    82<br/><b>retrievedDocumentSize    </b>:    73122<br/><b>outputDocumentCount    </b>:    2<br/><b>outputDocumentSize    </b>:    23742<br/><b>writeOutputTimeInMs    </b>:    0.02<br/><b>averageIndexUtilizationRation    </b>:    0.2<br/></span>\r\n",
              "  </div>\r\n",
              "</div>\r\n",
              "\r\n",
              "<script>\r\n",
              "var coll = document.getElementsByClassName('collapsible');\r\n",
              "var i;\r\n",
              "\r\n",
              "for (i = 0; i < coll.length; i++) {\r\n",
              "  \r\n",
              "  coll[i].addEventListener('click', function() {\r\n",
              "    this.classList.toggle('active');\r\n",
              "    var content = this.nextElementSibling;\r\n",
              "    \r\n",
              "    if (content.clientHeight != 0) {\r\n",
              "      this.textContent = '▶ View Query Metrics';\r\n",
              "      content.style.height = '0px';\r\n",
              "    }\r\n",
              "    else {\r\n",
              "      this.textContent = '▼ Hide Query Metrics';\r\n",
              "      content.style.height = content.children[0].clientHeight + 'px';\r\n",
              "    }\r\n",
              "  });\r\n",
              "}\r\n",
              "</script>\r\n",
              "</div>"
            ]
          },
          "metadata": {}
        }
      ],
      "execution_count": 7,
      "metadata": {
        "collapsed": true,
        "execution": {
          "iopub.execute_input": "2020-09-14T23:25:38.539Z",
          "iopub.status.busy": "2020-09-14T23:25:38.503Z",
          "iopub.status.idle": "2020-09-14T23:25:38.543Z",
          "shell.execute_reply": "2020-09-14T23:25:38.545Z"
        },
        "jupyter": {
          "outputs_hidden": false,
          "source_hidden": false
        },
        "nteract": {
          "transient": {
            "deleting": false
          }
        },
        "outputExpanded": false,
        "trusted": false
      }
    },
    {
      "cell_type": "code",
      "source": [
        "df_cosmos"
      ],
      "outputs": [
        {
          "output_type": "execute_result",
          "execution_count": 8,
          "data": {
            "text/plain": [
              "                                     id                      _rid  \\\n",
              "0  a4889ce9-b07f-4f25-9455-2278b2b39b87  VmxNAPaWpzEbAAAAAAAADg==   \n",
              "1  fce5dc0a-15c5-4e88-9136-a875afbd265b  VmxNAPaWpzFUUwAAAAAADg==   \n",
              "\n",
              "                                               _self  \\\n",
              "0  dbs/VmxNAA==/colls/VmxNAPaWpzE=/docs/VmxNAPaWp...   \n",
              "1  dbs/VmxNAA==/colls/VmxNAPaWpzE=/docs/VmxNAPaWp...   \n",
              "\n",
              "                                    _etag       partitionKey entityType  \\\n",
              "0  \"0e00e586-0000-0100-0000-5f07965b0000\"  QOF12N5J7I5CMCOKN    Vehicle   \n",
              "1  \"2500989d-0000-0100-0000-5f07a0a70000\"  QOF12N5J7I5CMCOKN       Trip   \n",
              "\n",
              "                 vin               lastServiceDate  batteryAgeDays  \\\n",
              "0  QOF12N5J7I5CMCOKN  2019-12-21T22:12:38.4217425Z          1022.0   \n",
              "1  QOF12N5J7I5CMCOKN                           NaN             NaN   \n",
              "\n",
              "   batteryRatedCycles  ...  location  odometerBegin odometerEnd  \\\n",
              "0               200.0  ...       NaN            NaN         NaN   \n",
              "1                 NaN  ...        WV       128446.0   128477.81   \n",
              "\n",
              "  temperatureSetting                   tripStarted  \\\n",
              "0                NaN                           NaN   \n",
              "1               19.0  2020-07-09T22:18:58.6870367Z   \n",
              "\n",
              "                      tripEnded     status            timestamp  \\\n",
              "0                           NaN        NaN                  NaN   \n",
              "1  2020-07-09T22:56:39.1944984Z  Completed  0001-01-01T00:00:00   \n",
              "\n",
              "                                            packages  \\\n",
              "0                                                NaN   \n",
              "1  [{'packageId': '7b91eb0a-aedd-473c-967a-8f0b8c...   \n",
              "\n",
              "                                         consignment  \n",
              "0                                                NaN  \n",
              "1  {'consignmentId': '1d61eddd-532a-4e5d-98af-b00...  \n",
              "\n",
              "[2 rows x 28 columns]"
            ],
            "text/html": [
              "<div>\n",
              "<style scoped>\n",
              "    .dataframe tbody tr th:only-of-type {\n",
              "        vertical-align: middle;\n",
              "    }\n",
              "\n",
              "    .dataframe tbody tr th {\n",
              "        vertical-align: top;\n",
              "    }\n",
              "\n",
              "    .dataframe thead th {\n",
              "        text-align: right;\n",
              "    }\n",
              "</style>\n",
              "<table border=\"1\" class=\"dataframe\">\n",
              "  <thead>\n",
              "    <tr style=\"text-align: right;\">\n",
              "      <th></th>\n",
              "      <th>id</th>\n",
              "      <th>_rid</th>\n",
              "      <th>_self</th>\n",
              "      <th>_etag</th>\n",
              "      <th>partitionKey</th>\n",
              "      <th>entityType</th>\n",
              "      <th>vin</th>\n",
              "      <th>lastServiceDate</th>\n",
              "      <th>batteryAgeDays</th>\n",
              "      <th>batteryRatedCycles</th>\n",
              "      <th>...</th>\n",
              "      <th>location</th>\n",
              "      <th>odometerBegin</th>\n",
              "      <th>odometerEnd</th>\n",
              "      <th>temperatureSetting</th>\n",
              "      <th>tripStarted</th>\n",
              "      <th>tripEnded</th>\n",
              "      <th>status</th>\n",
              "      <th>timestamp</th>\n",
              "      <th>packages</th>\n",
              "      <th>consignment</th>\n",
              "    </tr>\n",
              "  </thead>\n",
              "  <tbody>\n",
              "    <tr>\n",
              "      <th>0</th>\n",
              "      <td>a4889ce9-b07f-4f25-9455-2278b2b39b87</td>\n",
              "      <td>VmxNAPaWpzEbAAAAAAAADg==</td>\n",
              "      <td>dbs/VmxNAA==/colls/VmxNAPaWpzE=/docs/VmxNAPaWp...</td>\n",
              "      <td>\"0e00e586-0000-0100-0000-5f07965b0000\"</td>\n",
              "      <td>QOF12N5J7I5CMCOKN</td>\n",
              "      <td>Vehicle</td>\n",
              "      <td>QOF12N5J7I5CMCOKN</td>\n",
              "      <td>2019-12-21T22:12:38.4217425Z</td>\n",
              "      <td>1022.0</td>\n",
              "      <td>200.0</td>\n",
              "      <td>...</td>\n",
              "      <td>NaN</td>\n",
              "      <td>NaN</td>\n",
              "      <td>NaN</td>\n",
              "      <td>NaN</td>\n",
              "      <td>NaN</td>\n",
              "      <td>NaN</td>\n",
              "      <td>NaN</td>\n",
              "      <td>NaN</td>\n",
              "      <td>NaN</td>\n",
              "      <td>NaN</td>\n",
              "    </tr>\n",
              "    <tr>\n",
              "      <th>1</th>\n",
              "      <td>fce5dc0a-15c5-4e88-9136-a875afbd265b</td>\n",
              "      <td>VmxNAPaWpzFUUwAAAAAADg==</td>\n",
              "      <td>dbs/VmxNAA==/colls/VmxNAPaWpzE=/docs/VmxNAPaWp...</td>\n",
              "      <td>\"2500989d-0000-0100-0000-5f07a0a70000\"</td>\n",
              "      <td>QOF12N5J7I5CMCOKN</td>\n",
              "      <td>Trip</td>\n",
              "      <td>QOF12N5J7I5CMCOKN</td>\n",
              "      <td>NaN</td>\n",
              "      <td>NaN</td>\n",
              "      <td>NaN</td>\n",
              "      <td>...</td>\n",
              "      <td>WV</td>\n",
              "      <td>128446.0</td>\n",
              "      <td>128477.81</td>\n",
              "      <td>19.0</td>\n",
              "      <td>2020-07-09T22:18:58.6870367Z</td>\n",
              "      <td>2020-07-09T22:56:39.1944984Z</td>\n",
              "      <td>Completed</td>\n",
              "      <td>0001-01-01T00:00:00</td>\n",
              "      <td>[{'packageId': '7b91eb0a-aedd-473c-967a-8f0b8c...</td>\n",
              "      <td>{'consignmentId': '1d61eddd-532a-4e5d-98af-b00...</td>\n",
              "    </tr>\n",
              "  </tbody>\n",
              "</table>\n",
              "<p>2 rows × 28 columns</p>\n",
              "</div>"
            ]
          },
          "metadata": {}
        }
      ],
      "execution_count": 8,
      "metadata": {
        "collapsed": true,
        "execution": {
          "iopub.execute_input": "2020-09-14T23:25:39.967Z",
          "iopub.status.busy": "2020-09-14T23:25:39.965Z",
          "iopub.status.idle": "2020-09-14T23:25:40.025Z",
          "shell.execute_reply": "2020-09-14T23:25:40.030Z"
        },
        "jupyter": {
          "outputs_hidden": false,
          "source_hidden": false
        },
        "nteract": {
          "transient": {
            "deleting": false
          }
        },
        "outputExpanded": false,
        "trusted": false
      }
    },
    {
      "cell_type": "code",
      "source": [
        "%%sql --database ContosoAuto --container metadata \n",
        "SELECT * FROM metadata c where c.entityType = \"Package\" and c.id = \"6c508887-cd8f-4fbf-8867-6bac9a67c514\""
      ],
      "outputs": [
        {
          "output_type": "display_data",
          "data": {
            "text/html": [
              "\r\n",
              "<div>\r\n",
              "  <style type='text/css' scoped>\r\n",
              ".collapsible {\r\n",
              "  background-color: #fff;\r\n",
              "  color: #0078D4;\r\n",
              "  cursor: pointer;\r\n",
              "  padding: 10px;\r\n",
              "  border: none;\r\n",
              "  text-align: left;\r\n",
              "  outline: none;\r\n",
              "  font-size: 15px;\r\n",
              "  border-radius: 5px;\r\n",
              "  margin: 5px\r\n",
              "}\r\n",
              "\r\n",
              ".active, .collapsible:hover {\r\n",
              "  color: #4db2ff;\r\n",
              "}\r\n",
              "\r\n",
              ".content {\r\n",
              "  margin: 2px;\r\n",
              "  padding: 0 18px;\r\n",
              "  overflow: hidden;\r\n",
              "  background-color: #fff;\r\n",
              "  height: 0px;\r\n",
              "  -moz-transition: height .2s ease-out;\r\n",
              "  -ms-transition: height .2s ease-out;\r\n",
              "  -o-transition: height .2s ease-out;\r\n",
              "  -webkit-transition: height .2s ease-out;\r\n",
              "  transition: height .2s ease-out;\r\n",
              "}\r\n",
              "</style>\r\n",
              "\r\n",
              "<button type='button' class='collapsible'>� View Query Metrics</button>\r\n",
              "  \r\n",
              "<div class='content'>\r\n",
              "  <div class='measuringWrapper'>\r\n",
              "    <span style=\"color:#0078D4\"><b>totalExecutionTimeInMs    </b>:    10.68<br/><b>queryCompileTimeInMs    </b>:    0.8700000000000001<br/><b>queryLogicalPlanBuildTimeInMs    </b>:    0.29000000000000004<br/><b>queryPhysicalPlanBuildTimeInMs    </b>:    0.7200000000000001<br/><b>queryOptimizationTimeInMs    </b>:    0.05<br/><b>VMExecutionTimeInMs    </b>:    7.66<br/><b>indexLookupTimeInMs    </b>:    7.5200000000000005<br/><b>documentLoadTimeInMs    </b>:    0.03<br/><b>systemFunctionExecuteTimeInMs    </b>:    0<br/><b>userFunctionExecuteTimeInMs    </b>:    0<br/><b>retrievedDocumentCount    </b>:    1<br/><b>retrievedDocumentSize    </b>:    835<br/><b>outputDocumentCount    </b>:    1<br/><b>outputDocumentSize    </b>:    1080<br/><b>writeOutputTimeInMs    </b>:    0<br/><b>averageIndexUtilizationRation    </b>:    0.2<br/></span>\r\n",
              "  </div>\r\n",
              "</div>\r\n",
              "\r\n",
              "<script>\r\n",
              "var coll = document.getElementsByClassName('collapsible');\r\n",
              "var i;\r\n",
              "\r\n",
              "for (i = 0; i < coll.length; i++) {\r\n",
              "  \r\n",
              "  coll[i].addEventListener('click', function() {\r\n",
              "    this.classList.toggle('active');\r\n",
              "    var content = this.nextElementSibling;\r\n",
              "    \r\n",
              "    if (content.clientHeight != 0) {\r\n",
              "      this.textContent = '� View Query Metrics';\r\n",
              "      content.style.height = '0px';\r\n",
              "    }\r\n",
              "    else {\r\n",
              "      this.textContent = '� Hide Query Metrics';\r\n",
              "      content.style.height = content.children[0].clientHeight + 'px';\r\n",
              "    }\r\n",
              "  });\r\n",
              "}\r\n",
              "</script>\r\n",
              "</div>"
            ]
          },
          "metadata": {}
        },
        {
          "output_type": "display_data",
          "data": {
            "text/html": [
              "<div>\n",
              "<style scoped>\n",
              "    .dataframe tbody tr th:only-of-type {\n",
              "        vertical-align: middle;\n",
              "    }\n",
              "\n",
              "    .dataframe tbody tr th {\n",
              "        vertical-align: top;\n",
              "    }\n",
              "\n",
              "    .dataframe thead th {\n",
              "        text-align: right;\n",
              "    }\n",
              "</style>\n",
              "<table border=\"1\" class=\"dataframe\">\n",
              "  <thead>\n",
              "    <tr style=\"text-align: right;\">\n",
              "      <th></th>\n",
              "      <th>id</th>\n",
              "      <th>_rid</th>\n",
              "      <th>_self</th>\n",
              "      <th>_etag</th>\n",
              "      <th>partitionKey</th>\n",
              "      <th>entityType</th>\n",
              "      <th>tripId</th>\n",
              "      <th>consignmentId</th>\n",
              "      <th>height</th>\n",
              "      <th>length</th>\n",
              "      <th>width</th>\n",
              "      <th>grossWeight</th>\n",
              "      <th>storageTemperature</th>\n",
              "      <th>highValue</th>\n",
              "      <th>trip</th>\n",
              "      <th>consignment</th>\n",
              "      <th>timestamp</th>\n",
              "      <th>_attachments</th>\n",
              "      <th>_ts</th>\n",
              "    </tr>\n",
              "  </thead>\n",
              "  <tbody>\n",
              "    <tr>\n",
              "      <th>0</th>\n",
              "      <td>6c508887-cd8f-4fbf-8867-6bac9a67c514</td>\n",
              "      <td>VmxNAPaWpzEgLgAAAAAABg==</td>\n",
              "      <td>dbs/VmxNAA==/colls/VmxNAPaWpzE=/docs/VmxNAPaWp...</td>\n",
              "      <td>\"2200cf2d-0000-0100-0000-5f0796a20000\"</td>\n",
              "      <td>1d61eddd-532a-4e5d-98af-b001ce03ac4c</td>\n",
              "      <td>Package</td>\n",
              "      <td>fce5dc0a-15c5-4e88-9136-a875afbd265b</td>\n",
              "      <td>1d61eddd-532a-4e5d-98af-b001ce03ac4c</td>\n",
              "      <td>53.55</td>\n",
              "      <td>27.06</td>\n",
              "      <td>41.52</td>\n",
              "      <td>114.15</td>\n",
              "      <td>29</td>\n",
              "      <td>False</td>\n",
              "      <td>{'tripId': 'fce5dc0a-15c5-4e88-9136-a875afbd26...</td>\n",
              "      <td>{'consignmentId': '1d61eddd-532a-4e5d-98af-b00...</td>\n",
              "      <td>0001-01-01T00:00:00</td>\n",
              "      <td>attachments/</td>\n",
              "      <td>1594332834</td>\n",
              "    </tr>\n",
              "  </tbody>\n",
              "</table>\n",
              "</div>"
            ],
            "text/plain": [
              "                                     id                      _rid  \\\n",
              "0  6c508887-cd8f-4fbf-8867-6bac9a67c514  VmxNAPaWpzEgLgAAAAAABg==   \n",
              "\n",
              "                                               _self  \\\n",
              "0  dbs/VmxNAA==/colls/VmxNAPaWpzE=/docs/VmxNAPaWp...   \n",
              "\n",
              "                                    _etag  \\\n",
              "0  \"2200cf2d-0000-0100-0000-5f0796a20000\"   \n",
              "\n",
              "                           partitionKey entityType  \\\n",
              "0  1d61eddd-532a-4e5d-98af-b001ce03ac4c    Package   \n",
              "\n",
              "                                 tripId                         consignmentId  \\\n",
              "0  fce5dc0a-15c5-4e88-9136-a875afbd265b  1d61eddd-532a-4e5d-98af-b001ce03ac4c   \n",
              "\n",
              "   height  length  width  grossWeight  storageTemperature  highValue  \\\n",
              "0   53.55   27.06  41.52       114.15                  29      False   \n",
              "\n",
              "                                                trip  \\\n",
              "0  {'tripId': 'fce5dc0a-15c5-4e88-9136-a875afbd26...   \n",
              "\n",
              "                                         consignment            timestamp  \\\n",
              "0  {'consignmentId': '1d61eddd-532a-4e5d-98af-b00...  0001-01-01T00:00:00   \n",
              "\n",
              "   _attachments         _ts  \n",
              "0  attachments/  1594332834  "
            ]
          },
          "metadata": {}
        }
      ],
      "execution_count": 16,
      "metadata": {
        "collapsed": true,
        "execution": {
          "iopub.execute_input": "2020-09-14T01:27:52.679Z",
          "iopub.status.busy": "2020-09-14T01:27:52.644Z",
          "iopub.status.idle": "2020-09-14T01:27:52.749Z",
          "shell.execute_reply": "2020-09-14T01:27:52.754Z"
        },
        "jupyter": {
          "outputs_hidden": false,
          "source_hidden": false
        },
        "nteract": {
          "transient": {
            "deleting": false
          }
        },
        "outputExpanded": false,
        "trusted": false
      }
    },
    {
      "cell_type": "code",
      "source": [
        "%%sql --database ContosoAuto --container metadata \n",
        "SELECT * FROM metadata c \n",
        "where c.entityType = \"Consignment\" and c.id = \"1d61eddd-532a-4e5d-98af-b001ce03ac4c\""
      ],
      "outputs": [
        {
          "output_type": "display_data",
          "data": {
            "text/html": [
              "\r\n",
              "<div>\r\n",
              "  <style type='text/css' scoped>\r\n",
              ".collapsible {\r\n",
              "  background-color: #fff;\r\n",
              "  color: #0078D4;\r\n",
              "  cursor: pointer;\r\n",
              "  padding: 10px;\r\n",
              "  border: none;\r\n",
              "  text-align: left;\r\n",
              "  outline: none;\r\n",
              "  font-size: 15px;\r\n",
              "  border-radius: 5px;\r\n",
              "  margin: 5px\r\n",
              "}\r\n",
              "\r\n",
              ".active, .collapsible:hover {\r\n",
              "  color: #4db2ff;\r\n",
              "}\r\n",
              "\r\n",
              ".content {\r\n",
              "  margin: 2px;\r\n",
              "  padding: 0 18px;\r\n",
              "  overflow: hidden;\r\n",
              "  background-color: #fff;\r\n",
              "  height: 0px;\r\n",
              "  -moz-transition: height .2s ease-out;\r\n",
              "  -ms-transition: height .2s ease-out;\r\n",
              "  -o-transition: height .2s ease-out;\r\n",
              "  -webkit-transition: height .2s ease-out;\r\n",
              "  transition: height .2s ease-out;\r\n",
              "}\r\n",
              "</style>\r\n",
              "\r\n",
              "<button type='button' class='collapsible'>� View Query Metrics</button>\r\n",
              "  \r\n",
              "<div class='content'>\r\n",
              "  <div class='measuringWrapper'>\r\n",
              "    <span style=\"color:#0078D4\"><b>totalExecutionTimeInMs    </b>:    10.190000000000001<br/><b>queryCompileTimeInMs    </b>:    0.8700000000000001<br/><b>queryLogicalPlanBuildTimeInMs    </b>:    0.33<br/><b>queryPhysicalPlanBuildTimeInMs    </b>:    0.7300000000000001<br/><b>queryOptimizationTimeInMs    </b>:    0.05<br/><b>VMExecutionTimeInMs    </b>:    7.12<br/><b>indexLookupTimeInMs    </b>:    5.77<br/><b>documentLoadTimeInMs    </b>:    1.22<br/><b>systemFunctionExecuteTimeInMs    </b>:    0<br/><b>userFunctionExecuteTimeInMs    </b>:    0<br/><b>retrievedDocumentCount    </b>:    1<br/><b>retrievedDocumentSize    </b>:    9510<br/><b>outputDocumentCount    </b>:    1<br/><b>outputDocumentSize    </b>:    9755<br/><b>writeOutputTimeInMs    </b>:    0.01<br/><b>averageIndexUtilizationRation    </b>:    0.2<br/></span>\r\n",
              "  </div>\r\n",
              "</div>\r\n",
              "\r\n",
              "<script>\r\n",
              "var coll = document.getElementsByClassName('collapsible');\r\n",
              "var i;\r\n",
              "\r\n",
              "for (i = 0; i < coll.length; i++) {\r\n",
              "  \r\n",
              "  coll[i].addEventListener('click', function() {\r\n",
              "    this.classList.toggle('active');\r\n",
              "    var content = this.nextElementSibling;\r\n",
              "    \r\n",
              "    if (content.clientHeight != 0) {\r\n",
              "      this.textContent = '� View Query Metrics';\r\n",
              "      content.style.height = '0px';\r\n",
              "    }\r\n",
              "    else {\r\n",
              "      this.textContent = '� Hide Query Metrics';\r\n",
              "      content.style.height = content.children[0].clientHeight + 'px';\r\n",
              "    }\r\n",
              "  });\r\n",
              "}\r\n",
              "</script>\r\n",
              "</div>"
            ]
          },
          "metadata": {}
        },
        {
          "output_type": "display_data",
          "data": {
            "text/html": [
              "<div>\n",
              "<style scoped>\n",
              "    .dataframe tbody tr th:only-of-type {\n",
              "        vertical-align: middle;\n",
              "    }\n",
              "\n",
              "    .dataframe tbody tr th {\n",
              "        vertical-align: top;\n",
              "    }\n",
              "\n",
              "    .dataframe thead th {\n",
              "        text-align: right;\n",
              "    }\n",
              "</style>\n",
              "<table border=\"1\" class=\"dataframe\">\n",
              "  <thead>\n",
              "    <tr style=\"text-align: right;\">\n",
              "      <th></th>\n",
              "      <th>partitionKey</th>\n",
              "      <th>id</th>\n",
              "      <th>entityType</th>\n",
              "      <th>customer</th>\n",
              "      <th>description</th>\n",
              "      <th>status</th>\n",
              "      <th>deliveryDueDate</th>\n",
              "      <th>packages</th>\n",
              "      <th>timestamp</th>\n",
              "      <th>_rid</th>\n",
              "      <th>_self</th>\n",
              "      <th>_etag</th>\n",
              "      <th>_attachments</th>\n",
              "      <th>_ts</th>\n",
              "    </tr>\n",
              "  </thead>\n",
              "  <tbody>\n",
              "    <tr>\n",
              "      <th>0</th>\n",
              "      <td>1d61eddd-532a-4e5d-98af-b001ce03ac4c</td>\n",
              "      <td>1d61eddd-532a-4e5d-98af-b001ce03ac4c</td>\n",
              "      <td>Consignment</td>\n",
              "      <td>Trey Research</td>\n",
              "      <td>None</td>\n",
              "      <td>Completed</td>\n",
              "      <td>2020-07-10T01:28:38.4250243Z</td>\n",
              "      <td>[7b91eb0a-aedd-473c-967a-8f0b8c07716d, 0af420b...</td>\n",
              "      <td>0001-01-01T00:00:00</td>\n",
              "      <td>VmxNAPaWpzE2AQAAAAAABg==</td>\n",
              "      <td>dbs/VmxNAA==/colls/VmxNAPaWpzE=/docs/VmxNAPaWp...</td>\n",
              "      <td>\"2300a834-0000-0100-0000-5f07a0a70000\"</td>\n",
              "      <td>attachments/</td>\n",
              "      <td>1594335399</td>\n",
              "    </tr>\n",
              "  </tbody>\n",
              "</table>\n",
              "</div>"
            ],
            "text/plain": [
              "                           partitionKey                                    id  \\\n",
              "0  1d61eddd-532a-4e5d-98af-b001ce03ac4c  1d61eddd-532a-4e5d-98af-b001ce03ac4c   \n",
              "\n",
              "    entityType       customer description     status  \\\n",
              "0  Consignment  Trey Research        None  Completed   \n",
              "\n",
              "                deliveryDueDate  \\\n",
              "0  2020-07-10T01:28:38.4250243Z   \n",
              "\n",
              "                                            packages            timestamp  \\\n",
              "0  [7b91eb0a-aedd-473c-967a-8f0b8c07716d, 0af420b...  0001-01-01T00:00:00   \n",
              "\n",
              "                       _rid  \\\n",
              "0  VmxNAPaWpzE2AQAAAAAABg==   \n",
              "\n",
              "                                               _self  \\\n",
              "0  dbs/VmxNAA==/colls/VmxNAPaWpzE=/docs/VmxNAPaWp...   \n",
              "\n",
              "                                    _etag  _attachments         _ts  \n",
              "0  \"2300a834-0000-0100-0000-5f07a0a70000\"  attachments/  1594335399  "
            ]
          },
          "metadata": {}
        }
      ],
      "execution_count": 20,
      "metadata": {
        "collapsed": true,
        "execution": {
          "iopub.execute_input": "2020-09-14T01:31:09.177Z",
          "iopub.status.busy": "2020-09-14T01:31:09.083Z",
          "iopub.status.idle": "2020-09-14T01:31:09.185Z",
          "shell.execute_reply": "2020-09-14T01:31:09.187Z"
        },
        "jupyter": {
          "outputs_hidden": false,
          "source_hidden": false
        },
        "nteract": {
          "transient": {
            "deleting": false
          }
        },
        "outputExpanded": false,
        "trusted": false
      }
    },
    {
      "cell_type": "code",
      "source": [
        "%%sql --database bulkinsert --container taxidata\n",
        "SELECT \n",
        "COUNT(1) AS ct \n",
        "FROM  c \n",
        "where\n",
        "c.pickup_month = 11 and\n",
        "c.pickup_hour = 18"
      ],
      "outputs": [
        {
          "output_type": "display_data",
          "data": {
            "text/html": [
              "\r\n",
              "<div>\r\n",
              "  <style type='text/css' scoped>\r\n",
              ".collapsible {\r\n",
              "  background-color: #fff;\r\n",
              "  color: #0078D4;\r\n",
              "  cursor: pointer;\r\n",
              "  padding: 10px;\r\n",
              "  border: none;\r\n",
              "  text-align: left;\r\n",
              "  outline: none;\r\n",
              "  font-size: 15px;\r\n",
              "  border-radius: 5px;\r\n",
              "  margin: 5px\r\n",
              "}\r\n",
              "\r\n",
              ".active, .collapsible:hover {\r\n",
              "  color: #4db2ff;\r\n",
              "}\r\n",
              "\r\n",
              ".content {\r\n",
              "  margin: 2px;\r\n",
              "  padding: 0 18px;\r\n",
              "  overflow: hidden;\r\n",
              "  background-color: #fff;\r\n",
              "  height: 0px;\r\n",
              "  -moz-transition: height .2s ease-out;\r\n",
              "  -ms-transition: height .2s ease-out;\r\n",
              "  -o-transition: height .2s ease-out;\r\n",
              "  -webkit-transition: height .2s ease-out;\r\n",
              "  transition: height .2s ease-out;\r\n",
              "}\r\n",
              "</style>\r\n",
              "\r\n",
              "<button type='button' class='collapsible'>� View Query Metrics</button>\r\n",
              "  \r\n",
              "<div class='content'>\r\n",
              "  <div class='measuringWrapper'>\r\n",
              "    <span style=\"color:#0078D4\"><b>totalExecutionTimeInMs    </b>:    73.88000000000001<br/><b>queryCompileTimeInMs    </b>:    1.8099999999999998<br/><b>queryLogicalPlanBuildTimeInMs    </b>:    0.67<br/><b>queryPhysicalPlanBuildTimeInMs    </b>:    1.18<br/><b>queryOptimizationTimeInMs    </b>:    0.09999999999999999<br/><b>VMExecutionTimeInMs    </b>:    68.64000000000001<br/><b>indexLookupTimeInMs    </b>:    68.41<br/><b>documentLoadTimeInMs    </b>:    0<br/><b>systemFunctionExecuteTimeInMs    </b>:    0<br/><b>userFunctionExecuteTimeInMs    </b>:    0<br/><b>retrievedDocumentCount    </b>:    0<br/><b>retrievedDocumentSize    </b>:    0<br/><b>outputDocumentCount    </b>:    10<br/><b>outputDocumentSize    </b>:    823<br/><b>writeOutputTimeInMs    </b>:    0<br/><b>averageIndexUtilizationRation    </b>:    1<br/></span>\r\n",
              "  </div>\r\n",
              "</div>\r\n",
              "\r\n",
              "<script>\r\n",
              "var coll = document.getElementsByClassName('collapsible');\r\n",
              "var i;\r\n",
              "\r\n",
              "for (i = 0; i < coll.length; i++) {\r\n",
              "  \r\n",
              "  coll[i].addEventListener('click', function() {\r\n",
              "    this.classList.toggle('active');\r\n",
              "    var content = this.nextElementSibling;\r\n",
              "    \r\n",
              "    if (content.clientHeight != 0) {\r\n",
              "      this.textContent = '� View Query Metrics';\r\n",
              "      content.style.height = '0px';\r\n",
              "    }\r\n",
              "    else {\r\n",
              "      this.textContent = '� Hide Query Metrics';\r\n",
              "      content.style.height = content.children[0].clientHeight + 'px';\r\n",
              "    }\r\n",
              "  });\r\n",
              "}\r\n",
              "</script>\r\n",
              "</div>"
            ]
          },
          "metadata": {}
        },
        {
          "output_type": "display_data",
          "data": {
            "text/html": [
              "<div>\n",
              "<style scoped>\n",
              "    .dataframe tbody tr th:only-of-type {\n",
              "        vertical-align: middle;\n",
              "    }\n",
              "\n",
              "    .dataframe tbody tr th {\n",
              "        vertical-align: top;\n",
              "    }\n",
              "\n",
              "    .dataframe thead th {\n",
              "        text-align: right;\n",
              "    }\n",
              "</style>\n",
              "<table border=\"1\" class=\"dataframe\">\n",
              "  <thead>\n",
              "    <tr style=\"text-align: right;\">\n",
              "      <th></th>\n",
              "      <th>ct</th>\n",
              "    </tr>\n",
              "  </thead>\n",
              "  <tbody>\n",
              "    <tr>\n",
              "      <th>0</th>\n",
              "      <td>839337</td>\n",
              "    </tr>\n",
              "  </tbody>\n",
              "</table>\n",
              "</div>"
            ],
            "text/plain": [
              "       ct\n",
              "0  839337"
            ]
          },
          "metadata": {}
        }
      ],
      "execution_count": 13,
      "metadata": {
        "collapsed": true,
        "execution": {
          "iopub.execute_input": "2020-09-14T01:07:25.250Z",
          "iopub.status.busy": "2020-09-14T01:07:25.208Z",
          "iopub.status.idle": "2020-09-14T01:07:25.256Z",
          "shell.execute_reply": "2020-09-14T01:07:25.259Z"
        },
        "jupyter": {
          "outputs_hidden": false,
          "source_hidden": false
        },
        "nteract": {
          "transient": {
            "deleting": false
          }
        },
        "outputExpanded": false,
        "trusted": false
      }
    },
    {
      "cell_type": "code",
      "source": [
        "%%sql --database bulkinsert --container taxidata\n",
        "SELECT \n",
        "TOP 4 COUNT(1) AS ct,c.pickup_month,c.pickup_hour  \n",
        "FROM  c \n",
        "GROUP BY \n",
        "c.pickup_month,c.pickup_hour"
      ],
      "outputs": [
        {
          "output_type": "display_data",
          "data": {
            "text/html": [
              "\r\n",
              "<div>\r\n",
              "  <style type='text/css' scoped>\r\n",
              ".collapsible {\r\n",
              "  background-color: #fff;\r\n",
              "  color: #0078D4;\r\n",
              "  cursor: pointer;\r\n",
              "  padding: 10px;\r\n",
              "  border: none;\r\n",
              "  text-align: left;\r\n",
              "  outline: none;\r\n",
              "  font-size: 15px;\r\n",
              "  border-radius: 5px;\r\n",
              "  margin: 5px\r\n",
              "}\r\n",
              "\r\n",
              ".active, .collapsible:hover {\r\n",
              "  color: #4db2ff;\r\n",
              "}\r\n",
              "\r\n",
              ".content {\r\n",
              "  margin: 2px;\r\n",
              "  padding: 0 18px;\r\n",
              "  overflow: hidden;\r\n",
              "  background-color: #fff;\r\n",
              "  height: 0px;\r\n",
              "  -moz-transition: height .2s ease-out;\r\n",
              "  -ms-transition: height .2s ease-out;\r\n",
              "  -o-transition: height .2s ease-out;\r\n",
              "  -webkit-transition: height .2s ease-out;\r\n",
              "  transition: height .2s ease-out;\r\n",
              "}\r\n",
              "</style>\r\n",
              "\r\n",
              "<button type='button' class='collapsible'>� View Query Metrics</button>\r\n",
              "  \r\n",
              "<div class='content'>\r\n",
              "  <div class='measuringWrapper'>\r\n",
              "    <span style=\"color:#0078D4\"><b>totalExecutionTimeInMs    </b>:    877488.8700000001<br/><b>queryCompileTimeInMs    </b>:    44.32000000000004<br/><b>queryLogicalPlanBuildTimeInMs    </b>:    10.310000000000002<br/><b>queryPhysicalPlanBuildTimeInMs    </b>:    0.7500000000000002<br/><b>queryOptimizationTimeInMs    </b>:    0<br/><b>VMExecutionTimeInMs    </b>:    877310.0199999999<br/><b>indexLookupTimeInMs    </b>:    0<br/><b>documentLoadTimeInMs    </b>:    817952.14<br/><b>systemFunctionExecuteTimeInMs    </b>:    0<br/><b>userFunctionExecuteTimeInMs    </b>:    0<br/><b>retrievedDocumentCount    </b>:    39148544<br/><b>retrievedDocumentSize    </b>:    49697278383<br/><b>outputDocumentCount    </b>:    17434<br/><b>outputDocumentSize    </b>:    1862770<br/><b>writeOutputTimeInMs    </b>:    37.060000000000024<br/><b>averageIndexUtilizationRation    </b>:    0<br/></span>\r\n",
              "  </div>\r\n",
              "</div>\r\n",
              "\r\n",
              "<script>\r\n",
              "var coll = document.getElementsByClassName('collapsible');\r\n",
              "var i;\r\n",
              "\r\n",
              "for (i = 0; i < coll.length; i++) {\r\n",
              "  \r\n",
              "  coll[i].addEventListener('click', function() {\r\n",
              "    this.classList.toggle('active');\r\n",
              "    var content = this.nextElementSibling;\r\n",
              "    \r\n",
              "    if (content.clientHeight != 0) {\r\n",
              "      this.textContent = '� View Query Metrics';\r\n",
              "      content.style.height = '0px';\r\n",
              "    }\r\n",
              "    else {\r\n",
              "      this.textContent = '� Hide Query Metrics';\r\n",
              "      content.style.height = content.children[0].clientHeight + 'px';\r\n",
              "    }\r\n",
              "  });\r\n",
              "}\r\n",
              "</script>\r\n",
              "</div>"
            ]
          },
          "metadata": {}
        },
        {
          "output_type": "display_data",
          "data": {
            "text/html": [
              "<div>\n",
              "<style scoped>\n",
              "    .dataframe tbody tr th:only-of-type {\n",
              "        vertical-align: middle;\n",
              "    }\n",
              "\n",
              "    .dataframe tbody tr th {\n",
              "        vertical-align: top;\n",
              "    }\n",
              "\n",
              "    .dataframe thead th {\n",
              "        text-align: right;\n",
              "    }\n",
              "</style>\n",
              "<table border=\"1\" class=\"dataframe\">\n",
              "  <thead>\n",
              "    <tr style=\"text-align: right;\">\n",
              "      <th></th>\n",
              "      <th>ct</th>\n",
              "      <th>pickup_month</th>\n",
              "      <th>pickup_hour</th>\n",
              "    </tr>\n",
              "  </thead>\n",
              "  <tbody>\n",
              "    <tr>\n",
              "      <th>0</th>\n",
              "      <td>112812</td>\n",
              "      <td>3</td>\n",
              "      <td>9</td>\n",
              "    </tr>\n",
              "    <tr>\n",
              "      <th>1</th>\n",
              "      <td>117259</td>\n",
              "      <td>3</td>\n",
              "      <td>14</td>\n",
              "    </tr>\n",
              "    <tr>\n",
              "      <th>2</th>\n",
              "      <td>89518</td>\n",
              "      <td>3</td>\n",
              "      <td>7</td>\n",
              "    </tr>\n",
              "    <tr>\n",
              "      <th>3</th>\n",
              "      <td>133417</td>\n",
              "      <td>3</td>\n",
              "      <td>21</td>\n",
              "    </tr>\n",
              "  </tbody>\n",
              "</table>\n",
              "</div>"
            ],
            "text/plain": [
              "       ct  pickup_month  pickup_hour\n",
              "0  112812             3            9\n",
              "1  117259             3           14\n",
              "2   89518             3            7\n",
              "3  133417             3           21"
            ]
          },
          "metadata": {}
        }
      ],
      "execution_count": 14,
      "metadata": {
        "collapsed": true,
        "execution": {
          "iopub.execute_input": "2020-09-14T01:24:27.014Z",
          "iopub.status.busy": "2020-09-14T01:24:26.970Z",
          "iopub.status.idle": "2020-09-14T01:24:27.019Z",
          "shell.execute_reply": "2020-09-14T01:24:27.021Z"
        },
        "jupyter": {
          "outputs_hidden": false,
          "source_hidden": false
        },
        "nteract": {
          "transient": {
            "deleting": false
          }
        },
        "outputExpanded": false,
        "trusted": false
      }
    },
    {
      "cell_type": "code",
      "source": [],
      "outputs": [],
      "execution_count": null,
      "metadata": {
        "collapsed": true,
        "jupyter": {
          "outputs_hidden": false,
          "source_hidden": false
        },
        "nteract": {
          "transient": {
            "deleting": false
          }
        },
        "outputExpanded": false,
        "trusted": false
      }
    },
    {
      "cell_type": "code",
      "source": [],
      "outputs": [],
      "execution_count": null,
      "metadata": {
        "collapsed": true,
        "jupyter": {
          "outputs_hidden": false,
          "source_hidden": false
        },
        "nteract": {
          "transient": {
            "deleting": false
          }
        },
        "outputExpanded": false,
        "trusted": false
      }
    }
  ],
  "metadata": {
    "language_info": {
      "name": "python",
      "version": "3.7",
      "mimetype": "application/json",
      "file_extension": "ipynb"
    },
    "nteract": {
      "version": "dataExplorer 1.0"
    }
  },
  "nbformat": 4,
  "nbformat_minor": 4
}